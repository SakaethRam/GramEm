{
  "nbformat": 4,
  "nbformat_minor": 0,
  "metadata": {
    "colab": {
      "provenance": []
    },
    "kernelspec": {
      "name": "python3",
      "display_name": "Python 3"
    },
    "language_info": {
      "name": "python"
    }
  },
  "cells": [
    {
      "cell_type": "code",
      "execution_count": null,
      "metadata": {
        "id": "mQWY9nQXIxS8"
      },
      "outputs": [],
      "source": [
        "!pip install transformers datasets sentencepiece scikit-learn\n",
        "!pip install pandas datasets --quiet"
      ]
    },
    {
      "cell_type": "code",
      "source": [
        "#------------------------------------------ Emotion Classification (BERT) FINE - TUNING ------------------------------------------------\n",
        "\n",
        "from google.colab import files\n",
        "import pandas as pd\n",
        "import torch\n",
        "from transformers import BertTokenizer, BertForSequenceClassification, Trainer, TrainingArguments\n",
        "from datasets import Dataset\n",
        "\n",
        "# Upload dataset\n",
        "uploaded = files.upload()  # upload your emotion_dataset.csv\n",
        "\n",
        "df = pd.read_csv(next(iter(uploaded)))  # first uploaded file\n",
        "df = df[[\"text\", \"label\"]].dropna()\n",
        "num_labels = df[\"label\"].nunique()\n",
        "\n",
        "# Tokenization\n",
        "tokenizer = BertTokenizer.from_pretrained(\"bert-base-uncased\")\n",
        "\n",
        "def preprocess(example):\n",
        "    encoding = tokenizer(example[\"text\"], truncation=True, padding=\"max_length\", max_length=128)\n",
        "    encoding[\"label\"] = example[\"label\"]\n",
        "    return encoding\n",
        "\n",
        "dataset = Dataset.from_pandas(df)\n",
        "tokenized_dataset = dataset.map(preprocess)\n",
        "\n",
        "model = BertForSequenceClassification.from_pretrained(\"bert-base-uncased\", num_labels=num_labels)\n",
        "\n",
        "training_args = TrainingArguments(\n",
        "    output_dir=\"./bert-emotion-custom\",\n",
        "    per_device_train_batch_size=8,\n",
        "    num_train_epochs=3,\n",
        "    save_strategy=\"no\",\n",
        "    logging_dir='./logs',\n",
        "    save_total_limit=1\n",
        ")\n",
        "\n",
        "trainer = Trainer(model=model, args=training_args, train_dataset=tokenized_dataset)\n",
        "trainer.train()\n",
        "\n",
        "model.save_pretrained(\"./bert-emotion-custom\")\n",
        "tokenizer.save_pretrained(\"./bert-emotion-custom\")\n"
      ],
      "metadata": {
        "id": "5j50QeJCJVgc"
      },
      "execution_count": null,
      "outputs": []
    },
    {
      "cell_type": "code",
      "source": [
        "#-------------------------------------------- TEST MODEL ------------------------------------------\n",
        "\n",
        "from transformers import BertTokenizer, BertForSequenceClassification\n",
        "import torch\n",
        "import torch.nn.functional as F\n",
        "\n",
        "# Load your fine-tuned model\n",
        "model_path = \"./bert-emotion-custom\"\n",
        "tokenizer = BertTokenizer.from_pretrained(model_path)\n",
        "model = BertForSequenceClassification.from_pretrained(model_path)\n",
        "\n",
        "# Label mapping (same as used in training)\n",
        "label2emotion = {\n",
        "    0: \"joy\",\n",
        "    1: \"anger\",\n",
        "    2: \"neutral\",\n",
        "    3: \"excitement\",\n",
        "    4: \"sadness\"\n",
        "}\n",
        "\n",
        "def predict_emotion(text):\n",
        "    inputs = tokenizer(text, return_tensors=\"pt\", truncation=True, padding=True)\n",
        "    with torch.no_grad():\n",
        "        logits = model(**inputs).logits\n",
        "    probs = F.softmax(logits, dim=1)\n",
        "    predicted_label = torch.argmax(probs, dim=1).item()\n",
        "    return label2emotion[predicted_label], probs[0][predicted_label].item()\n",
        "\n",
        "# Test it\n",
        "text = \"I love this game!\"\n",
        "emotion, confidence = predict_emotion(text)\n",
        "print(f\"Predicted Emotion: {emotion} (Confidence: {confidence:.2f})\")\n"
      ],
      "metadata": {
        "id": "-jtGi1S0JgMV"
      },
      "execution_count": null,
      "outputs": []
    }
  ]
}